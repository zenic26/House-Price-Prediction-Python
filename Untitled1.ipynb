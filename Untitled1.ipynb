{
 "cells": [
  {
   "cell_type": "code",
   "execution_count": 1,
   "id": "852a5466-4af0-4f6c-aa60-cc6b1b9bd7a4",
   "metadata": {},
   "outputs": [
    {
     "name": "stdout",
     "output_type": "stream",
     "text": [
      "Predicted House Price: ₹485,194.57\n"
     ]
    }
   ],
   "source": [
    "import joblib\n",
    "import pandas as pd\n",
    "\n",
    "model = joblib.load('house_model.pkl')\n",
    "\n",
    "sample_input = {\n",
    "    'bedrooms': 3,\n",
    "    'bathrooms': 2,\n",
    "    'sqft_living15': 1800,  \n",
    "    'floors': 1\n",
    "}\n",
    "\n",
    "input_df = pd.DataFrame([sample_input])\n",
    "\n",
    "prediction = model.predict(input_df)\n",
    "\n",
    "print(f\"Predicted House Price: ₹{prediction[0]:,.2f}\")\n"
   ]
  },
  {
   "cell_type": "code",
   "execution_count": null,
   "id": "00d046ab-a9d1-480a-afe9-9bcb3506b024",
   "metadata": {},
   "outputs": [],
   "source": []
  },
  {
   "cell_type": "code",
   "execution_count": null,
   "id": "9a4a98a3-9158-4a06-9d1b-efe32f4bd0e9",
   "metadata": {},
   "outputs": [],
   "source": []
  }
 ],
 "metadata": {
  "kernelspec": {
   "display_name": "Python 3 (ipykernel)",
   "language": "python",
   "name": "python3"
  },
  "language_info": {
   "codemirror_mode": {
    "name": "ipython",
    "version": 3
   },
   "file_extension": ".py",
   "mimetype": "text/x-python",
   "name": "python",
   "nbconvert_exporter": "python",
   "pygments_lexer": "ipython3",
   "version": "3.11.4"
  }
 },
 "nbformat": 4,
 "nbformat_minor": 5
}
